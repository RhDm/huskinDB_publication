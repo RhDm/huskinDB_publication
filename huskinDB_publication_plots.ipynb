{
 "cells": [
  {
   "cell_type": "code",
   "execution_count": null,
   "metadata": {},
   "outputs": [],
   "source": [
    "import numpy as np\n",
    "import pandas as pd\n",
    "\n",
    "from bokeh.io import output_notebook\n",
    "from bokeh.plotting import figure, output_file, show\n",
    "output_notebook()\n",
    "\n",
    "\n",
    "pd.set_option('display.max_columns', 25)"
   ]
  },
  {
   "cell_type": "code",
   "execution_count": null,
   "metadata": {},
   "outputs": [],
   "source": [
    "huskin= pd.read_csv('data/huskinDB.csv')"
   ]
  },
  {
   "cell_type": "code",
   "execution_count": null,
   "metadata": {},
   "outputs": [],
   "source": [
    "huskin.head()"
   ]
  },
  {
   "cell_type": "markdown",
   "metadata": {},
   "source": [
    "### Publications"
   ]
  },
  {
   "cell_type": "code",
   "execution_count": null,
   "metadata": {},
   "outputs": [],
   "source": [
    "print ('Top 10 publications with the highest number of reported values: \\n \\n', huskin['reference'].value_counts()[:10], '\\n')\n",
    "print ('Total records: \\t \\t \\t', len(huskin['reference']))\n",
    "print ('Total unique publications: \\t', len(huskin['reference'].unique()))"
   ]
  },
  {
   "cell_type": "markdown",
   "metadata": {},
   "source": [
    "### Compounds"
   ]
  },
  {
   "cell_type": "code",
   "execution_count": null,
   "metadata": {},
   "outputs": [],
   "source": [
    "print ('Top 10 most frequently assessed compounds: \\n \\n', huskin['Compound name'].value_counts()[0:10], '\\n')\n",
    "print ('Total compounds: \\t \\t', len(huskin['Compound name']))\n",
    "print ('Total unique compounds: \\t', len(huskin['Smiles'].unique()))"
   ]
  },
  {
   "cell_type": "markdown",
   "metadata": {},
   "source": [
    "### Skin source type"
   ]
  },
  {
   "cell_type": "code",
   "execution_count": null,
   "metadata": {},
   "outputs": [],
   "source": [
    "print ('Top skin source types: \\n \\n', huskin['skin source type'].value_counts(), '\\n')\n",
    "print ('Total source_type: \\t \\t', len(huskin['skin source type']))\n",
    "print ('Total unique skin source types: \\t', len(huskin['skin source type'].unique()))"
   ]
  },
  {
   "cell_type": "markdown",
   "metadata": {},
   "source": [
    "### Skin source sites"
   ]
  },
  {
   "cell_type": "code",
   "execution_count": null,
   "metadata": {},
   "outputs": [],
   "source": [
    "print ('Top skin source sites: \\n \\n', huskin['skin source site'].value_counts(), '\\n')\n",
    "print ('Total skin types: \\t \\t', len(huskin['skin source site'])-np.sum(huskin['skin source site']=='unknown'))\n",
    "print ('Total unique skin source sites: \\t', len(huskin['skin source site'].unique()))"
   ]
  },
  {
   "cell_type": "markdown",
   "metadata": {},
   "source": [
    "### Skin preparation techniques"
   ]
  },
  {
   "cell_type": "code",
   "execution_count": null,
   "metadata": {},
   "outputs": [],
   "source": [
    "print ('Skin preparation: \\n \\n', huskin['skin preparation'].value_counts(), '\\n')\n",
    "print ('Total skin preparation types: \\t', len(huskin['skin preparation'])-np.sum(huskin['skin preparation']=='unknown'))\n",
    "print ('Total skin preparation types: \\t', len(huskin['skin preparation'].unique()))"
   ]
  },
  {
   "cell_type": "markdown",
   "metadata": {},
   "source": [
    "### Layer types"
   ]
  },
  {
   "cell_type": "code",
   "execution_count": null,
   "metadata": {},
   "outputs": [],
   "source": [
    "print ('Layers used: \\n \\n', huskin['used layer'].value_counts(), '\\n')\n",
    "print ('Total layers used (known): \\t', len(huskin['used layer'])-np.sum(huskin['used layer']=='unknown'))\n",
    "print ('Total unique layers used: \\t', len(huskin['used layer'].unique()))"
   ]
  },
  {
   "cell_type": "markdown",
   "metadata": {},
   "source": [
    "### Storage temperatures"
   ]
  },
  {
   "cell_type": "code",
   "execution_count": null,
   "metadata": {},
   "outputs": [],
   "source": [
    "print ('Storage temperatures (°C): \\n \\n', huskin['storage temperature (°C)'].value_counts(), '\\n')\n",
    "print ('Total storage temperatures: \\t \\t', len(huskin['storage temperature (°C)'])-np.sum(huskin['storage temperature (°C)']=='unknown'))\n",
    "print ('Total unique storage temperatures: \\t', len(huskin['storage temperature (°C)'].unique()))"
   ]
  },
  {
   "cell_type": "markdown",
   "metadata": {},
   "source": [
    "### Storage duration"
   ]
  },
  {
   "cell_type": "code",
   "execution_count": null,
   "metadata": {},
   "outputs": [],
   "source": [
    "print ('Storage durations (days): \\n \\n', huskin['storage duration (days)'].value_counts(), '\\n')\n",
    "print ('Total storage durations: \\t \\t', len(huskin['storage duration (days)'])-np.sum(huskin['storage duration (days)']=='unknown'))\n",
    "print ('Total unique storage durations: \\t', len(huskin['storage duration (days)'].unique()))"
   ]
  },
  {
   "cell_type": "markdown",
   "metadata": {},
   "source": [
    "### Whether the compound was tested neat or in a solution"
   ]
  },
  {
   "cell_type": "code",
   "execution_count": null,
   "metadata": {},
   "outputs": [],
   "source": [
    "print ('Neat: \\n \\n', huskin['neat'].value_counts(), '\\n')\n",
    "print ('Total neat: \\t \\t', len(huskin['neat']))\n",
    "print ('Total unique neat: \\t', len(huskin['neat'].unique()))"
   ]
  },
  {
   "cell_type": "markdown",
   "metadata": {},
   "source": [
    "### Donor solution/skin surface temperature"
   ]
  },
  {
   "cell_type": "code",
   "execution_count": null,
   "metadata": {},
   "outputs": [],
   "source": [
    "print ('Donor temperatures (°C): \\n \\n', huskin['donor/skin surface temperature (°C)'].value_counts(), '\\n')\n",
    "print ('Total donor temperatures: \\t \\t', len(huskin['donor/skin surface temperature (°C)'])-np.sum(huskin['donor/skin surface temperature (°C)']=='unknown'))\n",
    "print ('Total unique donor temperatures: \\t', len(huskin['donor/skin surface temperature (°C)'].unique()))"
   ]
  },
  {
   "cell_type": "markdown",
   "metadata": {},
   "source": [
    "### Donor pH"
   ]
  },
  {
   "cell_type": "code",
   "execution_count": null,
   "metadata": {},
   "outputs": [],
   "source": [
    "print ('Donor pH: \\n \\n', huskin['donor pH'].value_counts(), '\\n')\n",
    "print ('Total donor pH: \\t \\t', len(huskin['donor pH'])-np.sum(huskin['donor pH']=='unknown'))\n",
    "print ('Total unique donor pH values: \\t', len(huskin['donor pH'].unique()))"
   ]
  },
  {
   "cell_type": "markdown",
   "metadata": {},
   "source": [
    "### Donor types"
   ]
  },
  {
   "cell_type": "code",
   "execution_count": null,
   "metadata": {},
   "outputs": [],
   "source": [
    "print ('Donor types: \\n \\n', huskin['donor type'].value_counts(), '\\n')\n",
    "print ('Total donor types: \\t \\t', len(huskin['donor type'])-np.sum(huskin['donor type']=='unknown'))\n",
    "print ('Total unique donor types: \\t', len(huskin['donor type'].unique()))"
   ]
  },
  {
   "cell_type": "markdown",
   "metadata": {},
   "source": [
    "### Acceptor temperatures"
   ]
  },
  {
   "cell_type": "code",
   "execution_count": null,
   "metadata": {},
   "outputs": [],
   "source": [
    "print ('Acceptor temperatures (°C): \\n \\n', huskin['acceptor temperature (°C)'].value_counts(), '\\n')\n",
    "print ('Total acceptor temperatures: \\t', len(huskin['acceptor temperature (°C)'])-np.sum(huskin['acceptor temperature (°C)']=='unknown'))\n",
    "print ('Total unique acceptor temperatures: \\t', len(huskin['acceptor temperature (°C)'].unique()))"
   ]
  },
  {
   "cell_type": "markdown",
   "metadata": {},
   "source": [
    "### Acceptor pH"
   ]
  },
  {
   "cell_type": "code",
   "execution_count": null,
   "metadata": {},
   "outputs": [],
   "source": [
    "print ('Acceptor pH: \\n \\n', huskin['acceptor pH'].value_counts(), '\\n')\n",
    "print ('Total acceptor pH types: \\t \\t', len(huskin['acceptor pH'])-np.sum(huskin['acceptor pH']=='unknown'))\n",
    "print ('Total unique acceptor pH values: \\t', len(huskin['acceptor pH'].unique()))"
   ]
  },
  {
   "cell_type": "markdown",
   "metadata": {},
   "source": [
    "### Acceptor types"
   ]
  },
  {
   "cell_type": "code",
   "execution_count": null,
   "metadata": {},
   "outputs": [],
   "source": [
    "print ('Acceptor types: \\n \\n', huskin['acceptor type'].value_counts(), '\\n')\n",
    "print ('Total acceptor types: \\t', len(huskin['acceptor type'])-np.sum(huskin['acceptor type']=='unknown'))\n",
    "print ('Total unique acceptor types: \\t', len(huskin['acceptor type'].unique()))"
   ]
  },
  {
   "cell_type": "markdown",
   "metadata": {},
   "source": [
    "### Measurement chamber types"
   ]
  },
  {
   "cell_type": "code",
   "execution_count": null,
   "metadata": {},
   "outputs": [],
   "source": [
    "print ('Cell types: \\n \\n', huskin['cell type'].value_counts(), '\\n')\n",
    "print ('Total cell types: \\t', len(huskin['cell type'])-np.sum(huskin['cell type']=='unknown'))\n",
    "print ('Total unique cell types: \\t', len(huskin['cell type'].unique()))"
   ]
  },
  {
   "cell_type": "markdown",
   "metadata": {},
   "source": [
    "### Skin permeation values"
   ]
  },
  {
   "cell_type": "code",
   "execution_count": null,
   "metadata": {},
   "outputs": [],
   "source": [
    "huskin['logkp (cm/s)'].describe()"
   ]
  },
  {
   "cell_type": "markdown",
   "metadata": {},
   "source": [
    "### 5 Records with the highest skin permeation values"
   ]
  },
  {
   "cell_type": "code",
   "execution_count": null,
   "metadata": {},
   "outputs": [],
   "source": [
    "huskin.sort_values(by='logkp (cm/s)', ascending=False).head(5)"
   ]
  },
  {
   "cell_type": "markdown",
   "metadata": {},
   "source": [
    "### 5 Records with the lowest skin permeation values"
   ]
  },
  {
   "cell_type": "code",
   "execution_count": null,
   "metadata": {},
   "outputs": [],
   "source": [
    "huskin.sort_values(by='logkp (cm/s)', ascending=True).head(5)"
   ]
  },
  {
   "cell_type": "markdown",
   "metadata": {},
   "source": [
    "### Molecular weight of the compounds\n",
    "#### molecular weights and logP for huskinDB and DrugBank molecules were calculated using [RDKit](https://www.rdkit.org) version 2019.09.3.0"
   ]
  },
  {
   "cell_type": "code",
   "execution_count": null,
   "metadata": {},
   "outputs": [],
   "source": [
    "huskin['molecular weight'].describe()"
   ]
  },
  {
   "cell_type": "markdown",
   "metadata": {},
   "source": [
    "### 5 Records with the highest molecular weight values"
   ]
  },
  {
   "cell_type": "code",
   "execution_count": null,
   "metadata": {},
   "outputs": [],
   "source": [
    "huskin.sort_values(by='molecular weight', ascending=False).head(5)"
   ]
  },
  {
   "cell_type": "markdown",
   "metadata": {},
   "source": [
    "### 16 Records with the lowest molecular weight values"
   ]
  },
  {
   "cell_type": "code",
   "execution_count": null,
   "metadata": {},
   "outputs": [],
   "source": [
    "huskin.sort_values(by='molecular weight', ascending=True).head(16)"
   ]
  },
  {
   "cell_type": "markdown",
   "metadata": {},
   "source": [
    "### Figure 1a"
   ]
  },
  {
   "cell_type": "code",
   "execution_count": null,
   "metadata": {},
   "outputs": [],
   "source": [
    "p = figure(plot_width=600, plot_height=600, y_axis_label='Value count', x_axis_label='Skin permeation logkp (cm/s)',\n",
    "          background_fill_alpha = 0.5)\n",
    "\n",
    "hist, edges = np.histogram(huskin['logkp (cm/s)'], density=False, bins=40)\n",
    "\n",
    "left_edges=edges[:-1]\n",
    "right_edges=edges[1:]\n",
    "\n",
    "p.quad(top=hist, bottom=0, left=left_edges, right=right_edges,\n",
    "   fill_color='#1f78b4', line_color='black')\n",
    "\n",
    "\n",
    "font_size_labels= '28pt'\n",
    "font_size_major= '22pt'\n",
    "\n",
    "p.xaxis.axis_label_text_font_size= font_size_labels\n",
    "p.xaxis.major_label_text_font_size= font_size_major\n",
    "p.yaxis.axis_label_text_font_size= font_size_labels\n",
    "p.yaxis.major_label_text_font_size= font_size_major\n",
    "p.output_backend = \"svg\"\n",
    "\n",
    "show(p)"
   ]
  },
  {
   "cell_type": "markdown",
   "metadata": {},
   "source": [
    "### Figure 1b"
   ]
  },
  {
   "cell_type": "code",
   "execution_count": null,
   "metadata": {},
   "outputs": [],
   "source": [
    "p3 = figure(plot_width=600, plot_height=600, y_axis_label='Value count', x_axis_label='Molecular weight (g/mol)',\n",
    "          background_fill_alpha = 0.5)\n",
    "\n",
    "hist, edges = np.histogram(huskin['molecular weight'], density=False, bins=40)\n",
    "\n",
    "left_edges=edges[:-1]\n",
    "right_edges=edges[1:]\n",
    "\n",
    "p3.quad(top=hist, bottom=0, left=left_edges, right=right_edges,\n",
    "   fill_color='#1f78b4', line_color='black')\n",
    "\n",
    "font_size_labels= '28pt'\n",
    "font_size_major= '22pt'\n",
    "\n",
    "p3.xaxis.axis_label_text_font_size= font_size_labels\n",
    "p3.xaxis.major_label_text_font_size= font_size_major\n",
    "p3.yaxis.axis_label_text_font_size= font_size_labels\n",
    "p3.yaxis.major_label_text_font_size= font_size_major\n",
    "p3.output_backend = \"svg\"\n",
    "\n",
    "show(p3)"
   ]
  },
  {
   "cell_type": "markdown",
   "metadata": {},
   "source": [
    "### Figure 1c"
   ]
  },
  {
   "cell_type": "code",
   "execution_count": null,
   "metadata": {},
   "outputs": [],
   "source": [
    "p = figure(plot_width=600, plot_height=600,\n",
    "   x_axis_label='Molecular weight (g/mol)', y_axis_label='Skin permeation logkp (cm/s)', background_fill_alpha = 0.5)\n",
    "\n",
    "p.circle(huskin['molecular weight'], huskin['logkp (cm/s)'], fill_color='#1f78b4', line_color=\"black\", size=8,\n",
    "        alpha=0.8)\n",
    "\n",
    "font_size_labels= '28pt'\n",
    "font_size_major= '22pt'\n",
    "\n",
    "p.xaxis.axis_label_text_font_size= font_size_labels\n",
    "p.xaxis.major_label_text_font_size= font_size_major\n",
    "p.yaxis.axis_label_text_font_size= font_size_labels\n",
    "p.yaxis.major_label_text_font_size= font_size_major\n",
    "p.output_backend = \"svg\"\n",
    "show(p)"
   ]
  },
  {
   "cell_type": "markdown",
   "metadata": {},
   "source": [
    "### Figure 2\n",
    "#### [Drugbank 5.0](https://www.drugbank.ca/releases/5-0) data was used for the Figure 2\n",
    "#### following compounds were excluded:\n",
    "- Oxaliplatin\n",
    "- 5,10,15,20-Tetrakis(4-Sulpfonatophenyl)-21h,23h-Porphine\n",
    "- Temoporfin\n",
    "- Nedaplatin\n",
    "\n",
    "#### only DrugBank molecules with molecular weight <=2500 and -20 <= calculated logP <=20 are used\n",
    "#### additionally, one huskinDB molecule with calculated logP less than -20 was removed (octaborate tetrahydrate)"
   ]
  },
  {
   "cell_type": "code",
   "execution_count": null,
   "metadata": {},
   "outputs": [],
   "source": [
    "drugbank=pd.read_csv('data/DrugBank.csv', index_col=0)"
   ]
  },
  {
   "cell_type": "code",
   "execution_count": null,
   "metadata": {},
   "outputs": [],
   "source": [
    "# clip DrugBank and huskinDB data\n",
    "plot_drugbank_data= drugbank[(drugbank['mw'] <= 2500) &(drugbank['logp'] >= -20) & (drugbank['logp'] <=20)]\n",
    "plot_dhuskin_data= huskin[huskin['LogP'] >= -20]"
   ]
  },
  {
   "cell_type": "code",
   "execution_count": null,
   "metadata": {},
   "outputs": [],
   "source": [
    "p = figure(plot_width=600, plot_height=600,\n",
    "           x_axis_label='Molecular weight (g/mol)', y_axis_label='Widmann-Crippen LogP', background_fill_alpha = 0.5)\n",
    "\n",
    "p.circle(plot_drugbank_data['mw'], plot_drugbank_data['logp'], legend_label=\"DrugBank molecules\", fill_color='#a6cee3', line_color=\"#1f78b4\", size=3)\n",
    "p.circle(plot_dhuskin_data['molecular weight'], plot_dhuskin_data['LogP'], legend_label=\"huskinDB molecules\", fill_color=\"#e41a1c\", line_color=\"black\", size=4)\n",
    "\n",
    "font_size_labels= '16pt'\n",
    "font_size_major= '14pt'\n",
    "\n",
    "p.xaxis.axis_label_text_font_size= font_size_labels\n",
    "p.xaxis.major_label_text_font_size= font_size_major\n",
    "p.yaxis.axis_label_text_font_size= font_size_labels\n",
    "p.yaxis.major_label_text_font_size= font_size_major\n",
    "p.legend.label_text_font_size= font_size_major\n",
    "\n",
    "p.output_backend = \"svg\"\n",
    "show(p)"
   ]
  },
  {
   "cell_type": "markdown",
   "metadata": {},
   "source": [
    "### Figure 3\n",
    "#### a subset of huskinDB data points"
   ]
  },
  {
   "cell_type": "code",
   "execution_count": null,
   "metadata": {},
   "outputs": [],
   "source": [
    "steroids= pd.read_csv('data/steroids.csv')"
   ]
  },
  {
   "cell_type": "code",
   "execution_count": null,
   "metadata": {},
   "outputs": [],
   "source": [
    "anderson_e_d=steroids[(steroids['reference']=='Anderson, 1988') & (steroids['used layer']=='epidermis, dermis')]\n",
    "anderson_sc=steroids[(steroids['reference']=='Anderson, 1988') & (steroids['used layer']=='stratum corneum')]\n",
    "johnson_e=steroids[steroids['reference']=='Johnson, 1995']\n",
    "scheuplein_e=steroids[steroids['reference']=='Scheuplein, 1969']"
   ]
  },
  {
   "cell_type": "code",
   "execution_count": null,
   "metadata": {},
   "outputs": [],
   "source": [
    "p = figure(plot_width=600, plot_height=600,\n",
    "           x_axis_label='Molecular weight (g/mol)', y_axis_label='Skin permeation logkp (cm/s)', background_fill_alpha = 0.5)\n",
    "p.square(scheuplein_e['molecular weight'], scheuplein_e['logkp (cm/s)'], fill_color=\"#b2df8a\", line_color=\"black\", size=10, alpha=0.8)\n",
    "p.square(johnson_e['molecular weight'], johnson_e['logkp (cm/s)'], fill_color=\"#1f78b4\", line_color=\"black\", size=10, alpha=0.8)\n",
    "p.diamond(anderson_sc['molecular weight'], anderson_sc['logkp (cm/s)'], fill_color=\"#e31a1c\", line_color=\"black\", size=16, alpha=0.8)\n",
    "\n",
    "font_size_labels= '28pt'\n",
    "font_size_major= '22pt'\n",
    "\n",
    "p.xaxis.axis_label_text_font_size= font_size_labels\n",
    "p.xaxis.major_label_text_font_size= font_size_major\n",
    "p.yaxis.axis_label_text_font_size= font_size_labels\n",
    "p.yaxis.major_label_text_font_size= font_size_major\n",
    "\n",
    "p.output_backend = \"svg\"\n",
    "show(p)"
   ]
  },
  {
   "cell_type": "code",
   "execution_count": null,
   "metadata": {},
   "outputs": [],
   "source": []
  },
  {
   "cell_type": "code",
   "execution_count": null,
   "metadata": {},
   "outputs": [],
   "source": []
  },
  {
   "cell_type": "code",
   "execution_count": null,
   "metadata": {},
   "outputs": [],
   "source": []
  },
  {
   "cell_type": "code",
   "execution_count": null,
   "metadata": {},
   "outputs": [],
   "source": []
  },
  {
   "cell_type": "code",
   "execution_count": null,
   "metadata": {},
   "outputs": [],
   "source": []
  }
 ],
 "metadata": {
  "kernelspec": {
   "display_name": "Python 3",
   "language": "python",
   "name": "python3"
  },
  "language_info": {
   "codemirror_mode": {
    "name": "ipython",
    "version": 3
   },
   "file_extension": ".py",
   "mimetype": "text/x-python",
   "name": "python",
   "nbconvert_exporter": "python",
   "pygments_lexer": "ipython3",
   "version": "3.7.5"
  }
 },
 "nbformat": 4,
 "nbformat_minor": 4
}
