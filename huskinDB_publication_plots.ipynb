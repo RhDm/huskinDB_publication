{
 "cells": [
  {
   "cell_type": "code",
   "execution_count": null,
   "metadata": {},
   "outputs": [],
   "source": [
    "import numpy as np\n",
    "import pandas as pd\n",
    "\n",
    "from bokeh.io import output_notebook\n",
    "from bokeh.plotting import figure, output_file, show\n",
    "output_notebook()\n",
    "\n",
    "\n",
    "from rdkit.Chem import PandasTools"
   ]
  },
  {
   "cell_type": "code",
   "execution_count": null,
   "metadata": {},
   "outputs": [],
   "source": [
    "huskin= pd.read_csv('data/huskinDB.csv')"
   ]
  },
  {
   "cell_type": "code",
   "execution_count": null,
   "metadata": {},
   "outputs": [],
   "source": [
    "huskin.head()"
   ]
  },
  {
   "cell_type": "code",
   "execution_count": null,
   "metadata": {},
   "outputs": [],
   "source": [
    "for column in huskin.columns:\n",
    "    huskin[column]= huskin[column].fillna('unknown')"
   ]
  },
  {
   "cell_type": "markdown",
   "metadata": {},
   "source": [
    "### Publications"
   ]
  },
  {
   "cell_type": "code",
   "execution_count": null,
   "metadata": {},
   "outputs": [],
   "source": [
    "print ('Top 10 publications with the highest number of reported values: \\n \\n', huskin['reference'].value_counts()[:10], '\\n')\n",
    "print ('Total records: \\t \\t \\t', len(huskin['reference']))\n",
    "print ('Total unique publications: \\t', len(huskin['reference'].unique()))"
   ]
  },
  {
   "cell_type": "markdown",
   "metadata": {},
   "source": [
    "### Compounds"
   ]
  },
  {
   "cell_type": "code",
   "execution_count": null,
   "metadata": {},
   "outputs": [],
   "source": [
    "print ('Top 10 most frequently assessed compounds: \\n \\n', huskin['Compound name'].value_counts()[0:10], '\\n')\n",
    "print ('Total compounds: \\t \\t', len(huskin['Compound name']))\n",
    "print ('Total unique compounds: \\t', len(huskin['Smiles'].unique()))"
   ]
  },
  {
   "cell_type": "markdown",
   "metadata": {},
   "source": [
    "### Skin source type"
   ]
  },
  {
   "cell_type": "code",
   "execution_count": null,
   "metadata": {},
   "outputs": [],
   "source": [
    "print ('Top 14 source_type: \\n \\n', huskin['source_type'].value_counts()[0:14], '\\n')\n",
    "print ('Total source_type: \\t \\t', len(huskin['source_type']))\n",
    "print ('Total unique source_type: \\t', len(huskin['source_type'].unique()))"
   ]
  },
  {
   "cell_type": "markdown",
   "metadata": {},
   "source": [
    "### Skin source sites"
   ]
  },
  {
   "cell_type": "code",
   "execution_count": null,
   "metadata": {},
   "outputs": [],
   "source": [
    "print ('Top skin types: \\n \\n', huskin['skin source site'].value_counts(), '\\n')\n",
    "print ('Total skin types: \\t \\t', len(huskin['skin source site'])-np.sum(huskin['skin source site']=='unknown'))\n",
    "print ('Total unique skin types: \\t', len(huskin['skin source site'].unique()))"
   ]
  },
  {
   "cell_type": "markdown",
   "metadata": {},
   "source": [
    "### Skin preparation techniques"
   ]
  },
  {
   "cell_type": "code",
   "execution_count": null,
   "metadata": {},
   "outputs": [],
   "source": [
    "print ('Skin preparation: \\n \\n', huskin['skin preparation'].value_counts(), '\\n')\n",
    "print ('Total skin preparation types: \\t', len(huskin['skin preparation'])-np.sum(huskin['skin preparation']=='unknown'))\n",
    "print ('Total skin preparation types: \\t', len(huskin['skin preparation'].unique()))"
   ]
  },
  {
   "cell_type": "markdown",
   "metadata": {},
   "source": [
    "### Layer types"
   ]
  },
  {
   "cell_type": "code",
   "execution_count": null,
   "metadata": {},
   "outputs": [],
   "source": [
    "print ('Layers used: \\n \\n', huskin['used layer'].value_counts(), '\\n')\n",
    "print ('Total layers used (known): \\t', len(huskin['used layer'])-np.sum(huskin['used layer']=='unknown'))\n",
    "print ('Total unique layers used: \\t', len(huskin['used layer'].unique()))"
   ]
  },
  {
   "cell_type": "markdown",
   "metadata": {},
   "source": [
    "### Storage temperatures"
   ]
  },
  {
   "cell_type": "code",
   "execution_count": null,
   "metadata": {},
   "outputs": [],
   "source": [
    "print ('Storage temperatures: \\n \\n', huskin['storage temperature (°C)'].value_counts(), '\\n')\n",
    "print ('Total storage temperatures: \\t \\t', len(huskin['storage temperature (°C)'])-np.sum(huskin['storage temperature (°C)']=='unknown'))\n",
    "print ('Total unique storage temperatures: \\t', len(huskin['storage temperature (°C)'].unique()))"
   ]
  },
  {
   "cell_type": "markdown",
   "metadata": {},
   "source": [
    "### Storage duration"
   ]
  },
  {
   "cell_type": "code",
   "execution_count": null,
   "metadata": {},
   "outputs": [],
   "source": [
    "print ('Storage durations: \\n \\n', huskin['storage duration (days)'].value_counts(), '\\n')\n",
    "print ('Total storage durations: \\t \\t', len(huskin['storage duration (days)'])-np.sum(huskin['storage duration (days)']=='unknown'))\n",
    "print ('Total unique storage durations: \\t', len(huskin['storage duration (days)'].unique()))"
   ]
  },
  {
   "cell_type": "markdown",
   "metadata": {},
   "source": [
    "### Whether the compound was tested neat or in a solution"
   ]
  },
  {
   "cell_type": "code",
   "execution_count": null,
   "metadata": {},
   "outputs": [],
   "source": [
    "print ('Neat: \\n \\n', huskin['neat'].value_counts(), '\\n')\n",
    "print ('Total neat: \\t \\t', len(huskin['neat']))\n",
    "print ('Total unique neat: \\t', len(huskin['neat'].unique()))"
   ]
  },
  {
   "cell_type": "markdown",
   "metadata": {},
   "source": [
    "### Donor solution/skin surface temperature"
   ]
  },
  {
   "cell_type": "code",
   "execution_count": null,
   "metadata": {},
   "outputs": [],
   "source": [
    "print ('Donor temperatures: \\n \\n', huskin['donor/skin surface temperature (°C)'].value_counts(), '\\n')\n",
    "print ('Total donor temperatures: \\t \\t', len(huskin['donor/skin surface temperature (°C)'])-np.sum(huskin['donor/skin surface temperature (°C)']=='unknown'))\n",
    "print ('Total unique donor temperatures: \\t', len(huskin['donor/skin surface temperature (°C)'].unique()))"
   ]
  },
  {
   "cell_type": "markdown",
   "metadata": {},
   "source": [
    "### Donor pH"
   ]
  },
  {
   "cell_type": "code",
   "execution_count": null,
   "metadata": {},
   "outputs": [],
   "source": [
    "print ('Donor pH: \\n \\n', huskin['donor pH'].value_counts(), '\\n')\n",
    "print ('Total donor pH: \\t \\t', len(huskin['donor pH'])-np.sum(huskin['donor pH']=='unknown'))\n",
    "print ('Total unique donor pH values: \\t', len(huskin['donor pH'].unique()))"
   ]
  },
  {
   "cell_type": "markdown",
   "metadata": {},
   "source": [
    "### Donor types"
   ]
  },
  {
   "cell_type": "code",
   "execution_count": null,
   "metadata": {},
   "outputs": [],
   "source": [
    "print ('Donor types: \\n \\n', huskin['donor type'].value_counts(), '\\n')\n",
    "print ('Total donor types: \\t \\t', len(huskin['donor type'])-np.sum(huskin['donor type']=='unknown'))\n",
    "print ('Total unique donor types: \\t', len(huskin['donor type'].unique()))"
   ]
  },
  {
   "cell_type": "markdown",
   "metadata": {},
   "source": [
    "### Acceptor temperatures"
   ]
  },
  {
   "cell_type": "code",
   "execution_count": null,
   "metadata": {},
   "outputs": [],
   "source": [
    "print ('Acceptor temperatures: \\n \\n', huskin['acceptor temperature (°C)'].value_counts(), '\\n')\n",
    "print ('Total acceptor temperatures: \\t', len(huskin['acceptor temperature (°C)'])-np.sum(huskin['acceptor temperature (°C)']=='unknown'))\n",
    "print ('Total unique acceptor temperatures: \\t', len(huskin['acceptor temperature (°C)'].unique()))"
   ]
  },
  {
   "cell_type": "markdown",
   "metadata": {},
   "source": [
    "### Acceptor pH"
   ]
  },
  {
   "cell_type": "code",
   "execution_count": null,
   "metadata": {},
   "outputs": [],
   "source": [
    "print ('Acceptor pH: \\n \\n', huskin['acceptor pH'].value_counts(), '\\n')\n",
    "print ('Total acceptor pH types: \\t \\t', len(huskin['acceptor pH'])-np.sum(huskin['acceptor pH']=='unknown'))\n",
    "print ('Total unique acceptor pH values: \\t', len(huskin['acceptor pH'].unique()))"
   ]
  },
  {
   "cell_type": "markdown",
   "metadata": {},
   "source": [
    "### Acceptor types"
   ]
  },
  {
   "cell_type": "code",
   "execution_count": null,
   "metadata": {},
   "outputs": [],
   "source": [
    "print ('Acceptor types: \\n \\n', huskin['acceptor type'].value_counts(), '\\n')\n",
    "print ('Total acceptor types: \\t', len(huskin['acceptor type'])-np.sum(huskin['acceptor type']=='unknown'))\n",
    "print ('Total unique acceptor types: \\t', len(huskin['acceptor type'].unique()))"
   ]
  },
  {
   "cell_type": "markdown",
   "metadata": {},
   "source": [
    "### Measurement chamber types"
   ]
  },
  {
   "cell_type": "code",
   "execution_count": null,
   "metadata": {},
   "outputs": [],
   "source": [
    "print ('Cell types: \\n \\n', huskin['cell type'].value_counts(), '\\n')\n",
    "print ('Total cell types: \\t', len(huskin['cell type'])-np.sum(huskin['cell type']=='unknown'))\n",
    "print ('Total unique cell types: \\t', len(huskin['cell type'].unique()))"
   ]
  },
  {
   "cell_type": "code",
   "execution_count": null,
   "metadata": {},
   "outputs": [],
   "source": [
    "huskin['logkp (cm/s)'].describe()"
   ]
  },
  {
   "cell_type": "code",
   "execution_count": null,
   "metadata": {},
   "outputs": [],
   "source": [
    "huskin.head(5).sort_values(by='logkp (cm/s)', ascending=False)"
   ]
  },
  {
   "cell_type": "code",
   "execution_count": null,
   "metadata": {},
   "outputs": [],
   "source": [
    "huskin.head(5).sort_values(by='logkp (cm/s)', ascending=True)"
   ]
  },
  {
   "cell_type": "code",
   "execution_count": null,
   "metadata": {},
   "outputs": [],
   "source": [
    "PandasTools.AddMoleculeColumnToFrame(huskin, smilesCol='Smiles', molCol='Mol')"
   ]
  },
  {
   "cell_type": "code",
   "execution_count": null,
   "metadata": {},
   "outputs": [],
   "source": [
    "from rdkit import Chem\n",
    "\n",
    "def descriptor_calculator(mol_array, module):\n",
    "    '''outputs list with calculated descriptor '''\n",
    "    result=[module(x) for x in mol_array]\n",
    "    return result\n",
    "\n",
    "def add_desc(df, mol_array, d_dictionary):\n",
    "    '''adds descriptor columns to pandas df'''\n",
    "    for key, value in d_dictionary.items():\n",
    "        print('calculating: \\t', key)\n",
    "        df[key] = descriptor_calculator(mol_array, value)\n",
    "    return df\n",
    "\n",
    "from rdkit.Chem import AllChem\n",
    "from rdkit.Chem import Crippen\n",
    "\n",
    "\n",
    "'''\n",
    "Dictionary with descroptors\n",
    "add other descriptors for further processing\n",
    "find more information here: https://www.rdkit.org/docs/GettingStartedInPython.html\n",
    "and here: https://www.rdkit.org/docs/source/rdkit.Chem.Descriptors.html\n",
    "\n",
    "'''\n",
    "descriptor_dict={'Crippen_MolLogP': Crippen.MolLogP, \n",
    "                 'ExactMolWt': AllChem.CalcExactMolWt}\n",
    "\n",
    "                    \n",
    "huskin = add_desc(huskin.copy(), huskin['Mol'], descriptor_dict)"
   ]
  },
  {
   "cell_type": "code",
   "execution_count": null,
   "metadata": {},
   "outputs": [],
   "source": [
    "huskin['ExactMolWt'].describe()"
   ]
  },
  {
   "cell_type": "code",
   "execution_count": null,
   "metadata": {},
   "outputs": [],
   "source": [
    "huskin.head(5).sort_values(by='ExactMolWt', ascending=False)"
   ]
  },
  {
   "cell_type": "code",
   "execution_count": null,
   "metadata": {},
   "outputs": [],
   "source": [
    "huskin.head(5).sort_values(by='ExactMolWt', ascending=True)"
   ]
  },
  {
   "cell_type": "code",
   "execution_count": null,
   "metadata": {},
   "outputs": [],
   "source": [
    "p = figure(plot_width=600, plot_height=600,\n",
    "   x_axis_label='Molecular weight', y_axis_label='logkp [cm/s]', background_fill_alpha = 0.5)\n",
    "\n",
    "p.circle(huskin['ExactMolWt'], huskin['logkp (cm/s)'], fill_color='#1f78b4', line_color=\"black\", size=8,\n",
    "        alpha=0.8)\n",
    "\n",
    "font_size_labels= '28pt'\n",
    "font_size_major= '22pt'\n",
    "\n",
    "p.xaxis.axis_label_text_font_size= font_size_labels\n",
    "p.xaxis.major_label_text_font_size= font_size_major\n",
    "p.yaxis.axis_label_text_font_size= font_size_labels\n",
    "p.yaxis.major_label_text_font_size= font_size_major\n",
    "p.output_backend = \"svg\"\n",
    "show(p)"
   ]
  },
  {
   "cell_type": "code",
   "execution_count": null,
   "metadata": {},
   "outputs": [],
   "source": [
    "p = figure(plot_width=600, plot_height=600, y_axis_label='Value count', x_axis_label='logkp',\n",
    "          background_fill_alpha = 0.5)\n",
    "\n",
    "hist, edges = np.histogram(huskin['logkp (cm/s)'], density=False, bins=40)\n",
    "\n",
    "left_edges=edges[:-1]\n",
    "right_edges=edges[1:]\n",
    "\n",
    "p.quad(top=hist, bottom=0, left=left_edges, right=right_edges,\n",
    "   fill_color='#1f78b4', line_color='black')\n",
    "\n",
    "\n",
    "font_size_labels= '28pt'\n",
    "font_size_major= '22pt'\n",
    "\n",
    "p.xaxis.axis_label_text_font_size= font_size_labels\n",
    "p.xaxis.major_label_text_font_size= font_size_major\n",
    "p.yaxis.axis_label_text_font_size= font_size_labels\n",
    "p.yaxis.major_label_text_font_size= font_size_major\n",
    "p.output_backend = \"svg\"\n",
    "\n",
    "show(p)"
   ]
  },
  {
   "cell_type": "code",
   "execution_count": null,
   "metadata": {},
   "outputs": [],
   "source": [
    "p3 = figure(plot_width=600, plot_height=600, y_axis_label='Value count', x_axis_label='Molecular weight',\n",
    "          background_fill_alpha = 0.5)\n",
    "\n",
    "hist, edges = np.histogram(huskin['ExactMolWt'], density=False, bins=40)\n",
    "\n",
    "left_edges=edges[:-1]\n",
    "right_edges=edges[1:]\n",
    "\n",
    "p3.quad(top=hist, bottom=0, left=left_edges, right=right_edges,\n",
    "   fill_color='#1f78b4', line_color='black')\n",
    "\n",
    "font_size_labels= '28pt'\n",
    "font_size_major= '22pt'\n",
    "\n",
    "p3.xaxis.axis_label_text_font_size= font_size_labels\n",
    "p3.xaxis.major_label_text_font_size= font_size_major\n",
    "p3.yaxis.axis_label_text_font_size= font_size_labels\n",
    "p3.yaxis.major_label_text_font_size= font_size_major\n",
    "p3.output_backend = \"svg\"\n",
    "\n",
    "show(p3)"
   ]
  },
  {
   "cell_type": "code",
   "execution_count": null,
   "metadata": {},
   "outputs": [],
   "source": []
  },
  {
   "cell_type": "code",
   "execution_count": null,
   "metadata": {},
   "outputs": [],
   "source": []
  },
  {
   "cell_type": "code",
   "execution_count": null,
   "metadata": {},
   "outputs": [],
   "source": []
  },
  {
   "cell_type": "code",
   "execution_count": null,
   "metadata": {},
   "outputs": [],
   "source": []
  },
  {
   "cell_type": "code",
   "execution_count": null,
   "metadata": {},
   "outputs": [],
   "source": []
  }
 ],
 "metadata": {
  "kernelspec": {
   "display_name": "Python 3",
   "language": "python",
   "name": "python3"
  },
  "language_info": {
   "codemirror_mode": {
    "name": "ipython",
    "version": 3
   },
   "file_extension": ".py",
   "mimetype": "text/x-python",
   "name": "python",
   "nbconvert_exporter": "python",
   "pygments_lexer": "ipython3",
   "version": "3.7.5"
  }
 },
 "nbformat": 4,
 "nbformat_minor": 4
}
